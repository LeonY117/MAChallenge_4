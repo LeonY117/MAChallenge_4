{
 "cells": [
  {
   "cell_type": "markdown",
   "metadata": {},
   "source": [
    "# Pseudo Code\n",
    "\n",
    "(low signal strength exploration)\n",
    "either move zig zag accross lake (if lake is wide) OR move straight accross (if not wide)\n",
    "\n",
    "when signal strength > 5\n",
    "```\n",
    "n_reptition = 0\n",
    "\n",
    "Step 1\n",
    "Move in a certain direction (n_1, w_1), monitor sig(n_1, w_1)\n",
    "\n",
    "Step 2\n",
    "After 3 to 10 seconds, compute is_increasing=delta_sig>0 \n",
    "\n",
    "Step 3\n",
    "If !is_increasing:\n",
    "    move in (-n_1, -w_1) & repeat 1 to 3\n",
    "    n_repetition += 1\n",
    "If is_increasing:\n",
    "    move until delta(sig(n_1, w_1)) = 0\n",
    "\n",
    "    # Turn 90 degrees & repeat\n",
    "    n_repetition = 0\n",
    "    Repeat 1 to 3 with (n_2, w_2) perpendicular to (n_1, w_1)\n",
    "If delta_sig ~= 0:\n",
    "    sucess\n",
    "\n"
   ]
  },
  {
   "cell_type": "code",
   "execution_count": null,
   "metadata": {},
   "outputs": [],
   "source": []
  },
  {
   "cell_type": "code",
   "execution_count": null,
   "metadata": {},
   "outputs": [],
   "source": []
  }
 ],
 "metadata": {
  "language_info": {
   "name": "python"
  },
  "orig_nbformat": 4
 },
 "nbformat": 4,
 "nbformat_minor": 2
}
